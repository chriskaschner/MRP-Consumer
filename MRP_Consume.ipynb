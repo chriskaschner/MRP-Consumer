{
 "cells": [
  {
   "cell_type": "code",
   "execution_count": 1,
   "metadata": {},
   "outputs": [],
   "source": [
    "import config"
   ]
  },
  {
   "cell_type": "code",
   "execution_count": 19,
   "metadata": {},
   "outputs": [],
   "source": [
    "import requests\n",
    "# from requests.auth import HTTPDigestAuth\n",
    "import json"
   ]
  },
  {
   "cell_type": "code",
   "execution_count": 20,
   "metadata": {},
   "outputs": [],
   "source": [
    "url = \"https://app.mrpeasy.com/rest/v1/manufacturing-orders/\"\n",
    "headers = {\n",
    "    \"api_key\": config.api_key,\n",
    "    \"access_key\": config.access_key}"
   ]
  },
  {
   "cell_type": "code",
   "execution_count": 25,
   "metadata": {},
   "outputs": [],
   "source": [
    "myResponse = requests.get(url, headers=headers)"
   ]
  },
  {
   "cell_type": "code",
   "execution_count": 22,
   "metadata": {},
   "outputs": [],
   "source": [
    "def response():\n",
    "    # For successful API call, response code will be 200 (OK)\n",
    "    if(myResponse.ok):\n",
    "    # Loading the response data into a dict variable\n",
    "    # json.loads takes in only binary or string variables so using content to fetch binary content\n",
    "    # Loads (Load String) takes a Json file and converts into python data structure (dict or list, depending on JSON)\n",
    "        jData = json.loads(myResponse.content)\n",
    "\n",
    "        print(\"The response contains {0} properties\".format(len(jData)))\n",
    "        print(\"\\n\")\n",
    "        for key in jData:\n",
    "            print(key)\n",
    "            print(\"\\n\")\n",
    "    else:\n",
    "        # If response code is not ok (200), print the resulting http error code with description\n",
    "        myResponse.raise_for_status()"
   ]
  },
  {
   "cell_type": "code",
   "execution_count": 24,
   "metadata": {},
   "outputs": [
    {
     "name": "stdout",
     "output_type": "stream",
     "text": [
      "The response contains 37 properties\n",
      "\n",
      "\n",
      "{'man_ord_id': '74', 'code': 'MO-00111', 'article_id': '4', 'product_id': '4', 'item_code': 'A-00004', 'item_title': 'TEST MFG PART 4', 'unit_id': '1', 'unit': 'FL-OZ', 'group_id': '11', 'group_code': 'AG-00028', 'group_title': 'INACTIVE', 'quantity': 1, 'status': '35', 'created': '1515602198', 'due_date': '1515736800', 'start_date': '1515602220', 'finish_date': '1515713400', 'item_cost': 53.3833333333, 'total_cost': 53.3833333333, 'assigned_id': '1', 'bom_id': '1', 'routing_id': '1', 'lot_id': '2345', 'lot_code': 'L-02449', 'site_id': '1', 'notes': []}\n",
      "\n",
      "\n",
      "{'man_ord_id': '73', 'code': 'MO-00110', 'article_id': '4', 'product_id': '4', 'item_code': 'A-00004', 'item_title': 'TEST MFG PART 4', 'unit_id': '1', 'unit': 'FL-OZ', 'group_id': '11', 'group_code': 'AG-00028', 'group_title': 'INACTIVE', 'quantity': 1, 'status': '40', 'created': '1515540068', 'due_date': '1515736800', 'start_date': '1515540300', 'finish_date': '1515540563', 'item_cost': 0.3323133333, 'total_cost': 0.3323133333, 'assigned_id': '1', 'bom_id': '1', 'routing_id': '1', 'lot_id': '2339', 'lot_code': 'L-02443', 'site_id': '1', 'notes': []}\n",
      "\n",
      "\n",
      "{'man_ord_id': '67', 'code': 'MO-00105', 'article_id': '591', 'product_id': '591', 'item_code': 'KS000001-900', 'item_title': 'KASITA UNIT, ADU, INDEPENDENT', 'unit_id': '5', 'unit': 'EA', 'group_id': '10', 'group_code': 'AG-00023', 'group_title': 'SALES', 'quantity': 1, 'status': '20', 'created': '1511762400', 'due_date': None, 'start_date': '1515081416', 'finish_date': '1518447420', 'item_cost': 97702.946867635, 'total_cost': 97702.946867635, 'assigned_id': '18', 'bom_id': '16', 'routing_id': '28', 'lot_id': '1627', 'lot_code': 'L-01697', 'site_id': '1', 'notes': []}\n",
      "\n",
      "\n",
      "{'man_ord_id': '66', 'code': 'MO-00104', 'article_id': '752', 'product_id': '752', 'item_code': 'KS000001-940', 'item_title': 'STATION 4, KASITA UNIT, ADU, INDEPENDENT', 'unit_id': '5', 'unit': 'EA', 'group_id': '4', 'group_code': 'AG-00006', 'group_title': 'MFG', 'quantity': 1, 'status': '20', 'created': '1511762400', 'due_date': None, 'start_date': '1515176370', 'finish_date': '1516377240', 'item_cost': 90201.094534302, 'total_cost': 90201.094534302, 'assigned_id': '18', 'bom_id': '80', 'routing_id': '73', 'lot_id': '1626', 'lot_code': 'L-01696', 'site_id': '1', 'notes': []}\n",
      "\n",
      "\n",
      "{'man_ord_id': '65', 'code': 'MO-00103', 'article_id': '696', 'product_id': '696', 'item_code': 'KS000001-930', 'item_title': 'STATION 3, KASITA UNIT, ADU, INDEPENDENT', 'unit_id': '5', 'unit': 'EA', 'group_id': '4', 'group_code': 'AG-00006', 'group_title': 'MFG', 'quantity': 1, 'status': '35', 'created': '1511762400', 'due_date': None, 'start_date': '1515417060', 'finish_date': '1518533100', 'item_cost': 42525.150582577, 'total_cost': 42525.150582577, 'assigned_id': '18', 'bom_id': '34', 'routing_id': '33', 'lot_id': '1625', 'lot_code': 'L-01695', 'site_id': '1', 'notes': []}\n",
      "\n",
      "\n",
      "{'man_ord_id': '64', 'code': 'MO-00102', 'article_id': '695', 'product_id': '695', 'item_code': 'KS000001-920', 'item_title': 'STATION 2, KASITA UNIT, ADU, INDEPENDENT', 'unit_id': '5', 'unit': 'EA', 'group_id': '4', 'group_code': 'AG-00006', 'group_title': 'MFG', 'quantity': 1, 'status': '30', 'created': '1511762400', 'due_date': None, 'start_date': '1515078985', 'finish_date': '1515512785', 'item_cost': 36578.968053695, 'total_cost': 36578.968053695, 'assigned_id': '18', 'bom_id': '32', 'routing_id': '32', 'lot_id': '1624', 'lot_code': 'L-01694', 'site_id': '1', 'notes': []}\n",
      "\n",
      "\n",
      "{'man_ord_id': '63', 'code': 'MO-00101', 'article_id': '694', 'product_id': '694', 'item_code': 'KS000001-910', 'item_title': 'STATION 1, KASITA UNIT, ADU, INDEPENDENT', 'unit_id': '5', 'unit': 'EA', 'group_id': '4', 'group_code': 'AG-00006', 'group_title': 'MFG', 'quantity': 1, 'status': '35', 'created': '1511762400', 'due_date': None, 'start_date': '1512157793', 'finish_date': '1516299840', 'item_cost': 18798.177770929, 'total_cost': 18798.177770929, 'assigned_id': '18', 'bom_id': '31', 'routing_id': '31', 'lot_id': '1623', 'lot_code': 'L-01693', 'site_id': '1', 'notes': []}\n",
      "\n",
      "\n",
      "{'man_ord_id': '61', 'code': 'MO-00091', 'article_id': '755', 'product_id': '755', 'item_code': 'A-00005', 'item_title': 'TEST MFG PART A-00005', 'unit_id': '5', 'unit': 'EA', 'group_id': '11', 'group_code': 'AG-00028', 'group_title': 'INACTIVE', 'quantity': 1, 'status': '40', 'created': '1508734800', 'due_date': '1508734800', 'start_date': '1508819160', 'finish_date': '1508819580', 'item_cost': 17.66, 'total_cost': 17.66, 'assigned_id': '1', 'bom_id': '90', 'routing_id': '76', 'lot_id': '1313', 'lot_code': 'L-01361', 'site_id': '1', 'notes': []}\n",
      "\n",
      "\n",
      "{'man_ord_id': '59', 'code': 'MO-00089', 'article_id': '591', 'product_id': '591', 'item_code': 'KS000001-900', 'item_title': 'KASITA UNIT, ADU, INDEPENDENT', 'unit_id': '5', 'unit': 'EA', 'group_id': '10', 'group_code': 'AG-00023', 'group_title': 'SALES', 'quantity': 1, 'status': '20', 'created': '1508475600', 'due_date': None, 'start_date': '1515081414', 'finish_date': '1518202620', 'item_cost': 81338.953573623, 'total_cost': 81338.953573623, 'assigned_id': '18', 'bom_id': '16', 'routing_id': '28', 'lot_id': '1262', 'lot_code': 'L-01306', 'site_id': '1', 'notes': []}\n",
      "\n",
      "\n",
      "{'man_ord_id': '58', 'code': 'MO-00088', 'article_id': '752', 'product_id': '752', 'item_code': 'KS000001-940', 'item_title': 'STATION 4, KASITA UNIT, ADU, INDEPENDENT', 'unit_id': '5', 'unit': 'EA', 'group_id': '4', 'group_code': 'AG-00006', 'group_title': 'MFG', 'quantity': 1, 'status': '35', 'created': '1508475600', 'due_date': None, 'start_date': '1515176376', 'finish_date': '1518476100', 'item_cost': 74351.621573624, 'total_cost': 74351.621573624, 'assigned_id': '18', 'bom_id': '80', 'routing_id': '73', 'lot_id': '1261', 'lot_code': 'L-01305', 'site_id': '1', 'notes': []}\n",
      "\n",
      "\n",
      "{'man_ord_id': '57', 'code': 'MO-00087', 'article_id': '696', 'product_id': '696', 'item_code': 'KS000001-930', 'item_title': 'STATION 3, KASITA UNIT, ADU, INDEPENDENT', 'unit_id': '5', 'unit': 'EA', 'group_id': '4', 'group_code': 'AG-00006', 'group_title': 'MFG', 'quantity': 1, 'status': '30', 'created': '1508475600', 'due_date': None, 'start_date': '1514554260', 'finish_date': '1517867100', 'item_cost': 48458.809400053, 'total_cost': 48458.809400053, 'assigned_id': '18', 'bom_id': '34', 'routing_id': '33', 'lot_id': '1260', 'lot_code': 'L-01304', 'site_id': '1', 'notes': []}\n",
      "\n",
      "\n",
      "{'man_ord_id': '56', 'code': 'MO-00085', 'article_id': '695', 'product_id': '695', 'item_code': 'KS000001-920', 'item_title': 'STATION 2, KASITA UNIT, ADU, INDEPENDENT', 'unit_id': '5', 'unit': 'EA', 'group_id': '4', 'group_code': 'AG-00006', 'group_title': 'MFG', 'quantity': 1, 'status': '30', 'created': '1508475600', 'due_date': None, 'start_date': '1513861560', 'finish_date': '1514503560', 'item_cost': 29849.27735288, 'total_cost': 29849.27735288, 'assigned_id': '18', 'bom_id': '32', 'routing_id': '32', 'lot_id': '1259', 'lot_code': 'L-01303', 'site_id': '1', 'notes': []}\n",
      "\n",
      "\n",
      "{'man_ord_id': '55', 'code': 'MO-00084', 'article_id': '694', 'product_id': '694', 'item_code': 'KS000001-910', 'item_title': 'STATION 1, KASITA UNIT, ADU, INDEPENDENT', 'unit_id': '5', 'unit': 'EA', 'group_id': '4', 'group_code': 'AG-00006', 'group_title': 'MFG', 'quantity': 1, 'status': '40', 'created': '1508475600', 'due_date': None, 'start_date': '1512480180', 'finish_date': '1514466933', 'item_cost': 12986.096030516, 'total_cost': 12986.096030516, 'assigned_id': '18', 'bom_id': '31', 'routing_id': '31', 'lot_id': '1258', 'lot_code': 'L-01302', 'site_id': '1', 'notes': []}\n",
      "\n",
      "\n",
      "{'man_ord_id': '53', 'code': 'MO-00082', 'article_id': '609', 'product_id': '609', 'item_code': 'MW000005', 'item_title': 'BACKSPLASH, KITCHEN BAR, HI-TOP, FINISHED, 5 X 86.5', 'unit_id': '5', 'unit': 'EA', 'group_id': '4', 'group_code': 'AG-00006', 'group_title': 'MFG', 'quantity': 1, 'status': '20', 'created': '1507179600', 'due_date': '1506661200', 'start_date': '1506637740', 'finish_date': '1506637800', 'item_cost': 30.9383333333, 'total_cost': 30.9383333333, 'assigned_id': '2', 'bom_id': '30', 'routing_id': '19', 'lot_id': '1125', 'lot_code': 'L-01166', 'site_id': '1', 'notes': []}\n",
      "\n",
      "\n",
      "{'man_ord_id': '52', 'code': 'MO-00080', 'article_id': '608', 'product_id': '608', 'item_code': 'MW000004', 'item_title': 'COUNTERTOP, KITCHEN BAR, HI-TOP, FINISHED, 8 X 86.5', 'unit_id': '5', 'unit': 'EA', 'group_id': '4', 'group_code': 'AG-00006', 'group_title': 'MFG', 'quantity': 1, 'status': '20', 'created': '1507179600', 'due_date': '1506661200', 'start_date': '1506637740', 'finish_date': '1506637800', 'item_cost': 104.678, 'total_cost': 104.678, 'assigned_id': '2', 'bom_id': '29', 'routing_id': '18', 'lot_id': '1124', 'lot_code': 'L-01165', 'site_id': '1', 'notes': []}\n",
      "\n",
      "\n",
      "{'man_ord_id': '51', 'code': 'MO-00079', 'article_id': '607', 'product_id': '607', 'item_code': 'MW000003', 'item_title': 'COUNTERTOP, KITCHEN BAR, MAIN, FINISHED, 17 X 86.5', 'unit_id': '5', 'unit': 'EA', 'group_id': '4', 'group_code': 'AG-00006', 'group_title': 'MFG', 'quantity': 1, 'status': '20', 'created': '1507179600', 'due_date': '1506661200', 'start_date': '1506637740', 'finish_date': '1506637800', 'item_cost': 177.9526, 'total_cost': 177.9526, 'assigned_id': '2', 'bom_id': '28', 'routing_id': '17', 'lot_id': '1123', 'lot_code': 'L-01164', 'site_id': '1', 'notes': []}\n",
      "\n",
      "\n",
      "{'man_ord_id': '50', 'code': 'MO-00078', 'article_id': '602', 'product_id': '602', 'item_code': 'MW000002', 'item_title': 'BACKSPLASH, KITCHEN, FINISHED, 36 X 75', 'unit_id': '5', 'unit': 'EA', 'group_id': '4', 'group_code': 'AG-00006', 'group_title': 'MFG', 'quantity': 1, 'status': '20', 'created': '1507179600', 'due_date': '1506661200', 'start_date': '1506637740', 'finish_date': '1506637800', 'item_cost': 191.8176666667, 'total_cost': 191.8176666667, 'assigned_id': '2', 'bom_id': '27', 'routing_id': '16', 'lot_id': '1122', 'lot_code': 'L-01163', 'site_id': '1', 'notes': []}\n",
      "\n",
      "\n",
      "{'man_ord_id': '49', 'code': 'MO-00077', 'article_id': '601', 'product_id': '601', 'item_code': 'MW000001', 'item_title': 'COUNTERTOP, KITCHEN, FINISHED, 24 X 75', 'unit_id': '5', 'unit': 'EA', 'group_id': '4', 'group_code': 'AG-00006', 'group_title': 'MFG', 'quantity': 1, 'status': '20', 'created': '1507179600', 'due_date': '1506661200', 'start_date': '1506637740', 'finish_date': '1506637800', 'item_cost': 261.695, 'total_cost': 261.695, 'assigned_id': '2', 'bom_id': '26', 'routing_id': '15', 'lot_id': '1121', 'lot_code': 'L-01162', 'site_id': '1', 'notes': []}\n",
      "\n",
      "\n",
      "{'man_ord_id': '48', 'code': 'MO-00074', 'article_id': '755', 'product_id': '755', 'item_code': 'A-00005', 'item_title': 'TEST MFG PART A-00005', 'unit_id': '5', 'unit': 'EA', 'group_id': '11', 'group_code': 'AG-00028', 'group_title': 'INACTIVE', 'quantity': 1, 'status': '40', 'created': '1506315600', 'due_date': '1506402000', 'start_date': '1506359160', 'finish_date': '1506359580', 'item_cost': 19.3045, 'total_cost': 19.3045, 'assigned_id': '1', 'bom_id': '90', 'routing_id': '76', 'lot_id': '948', 'lot_code': 'L-00988', 'site_id': '1', 'notes': []}\n",
      "\n",
      "\n",
      "{'man_ord_id': '47', 'code': 'MO-00071', 'article_id': '755', 'product_id': '755', 'item_code': 'A-00005', 'item_title': 'TEST MFG PART A-00005', 'unit_id': '5', 'unit': 'EA', 'group_id': '11', 'group_code': 'AG-00028', 'group_title': 'INACTIVE', 'quantity': 1, 'status': '40', 'created': '1506229200', 'due_date': '1506315600', 'start_date': '1506310620', 'finish_date': '1506311220', 'item_cost': 17.6278333333, 'total_cost': 17.6278333333, 'assigned_id': '1', 'bom_id': '90', 'routing_id': '76', 'lot_id': '947', 'lot_code': 'L-00987', 'site_id': '1', 'notes': []}\n",
      "\n",
      "\n",
      "{'man_ord_id': '45', 'code': 'MO-00067', 'article_id': '752', 'product_id': '752', 'item_code': 'KS000001-940', 'item_title': 'STATION 4, KASITA UNIT, ADU, INDEPENDENT', 'unit_id': '5', 'unit': 'EA', 'group_id': '4', 'group_code': 'AG-00006', 'group_title': 'MFG', 'quantity': 1, 'status': '30', 'created': '1505970000', 'due_date': '1507870800', 'start_date': '1509566520', 'finish_date': '1509746400', 'item_cost': 53569.098478785, 'total_cost': 53569.098478785, 'assigned_id': '6', 'bom_id': '80', 'routing_id': '73', 'lot_id': '942', 'lot_code': 'L-00982', 'site_id': '1', 'notes': []}\n",
      "\n",
      "\n",
      "{'man_ord_id': '44', 'code': 'MO-00066', 'article_id': '752', 'product_id': '752', 'item_code': 'KS000001-940', 'item_title': 'STATION 4, KASITA UNIT, ADU, INDEPENDENT', 'unit_id': '5', 'unit': 'EA', 'group_id': '4', 'group_code': 'AG-00006', 'group_title': 'MFG', 'quantity': 1, 'status': '40', 'created': '1505970000', 'due_date': '1506661200', 'start_date': '1507225620', 'finish_date': '1514468483', 'item_cost': 20883.69, 'total_cost': 20883.69, 'assigned_id': '6', 'bom_id': '80', 'routing_id': '73', 'lot_id': '941', 'lot_code': 'L-00981', 'site_id': '1', 'notes': []}\n",
      "\n",
      "\n",
      "{'man_ord_id': '43', 'code': 'MO-00064', 'article_id': '591', 'product_id': '591', 'item_code': 'KS000001-900', 'item_title': 'KASITA UNIT, ADU, INDEPENDENT', 'unit_id': '5', 'unit': 'EA', 'group_id': '10', 'group_code': 'AG-00023', 'group_title': 'SALES', 'quantity': 1, 'status': '35', 'created': '1505192400', 'due_date': '1504155600', 'start_date': '1504010400', 'finish_date': '1507649820', 'item_cost': 71008.339287258, 'total_cost': 71008.339287258, 'assigned_id': '1', 'bom_id': '16', 'routing_id': '28', 'lot_id': '728', 'lot_code': 'L-00766', 'site_id': '1', 'notes': []}\n",
      "\n",
      "\n",
      "{'man_ord_id': '42', 'code': 'MO-00063', 'article_id': '696', 'product_id': '696', 'item_code': 'KS000001-930', 'item_title': 'STATION 3, KASITA UNIT, ADU, INDEPENDENT', 'unit_id': '5', 'unit': 'EA', 'group_id': '4', 'group_code': 'AG-00006', 'group_title': 'MFG', 'quantity': 1, 'status': '40', 'created': '1505192400', 'due_date': '1504155600', 'start_date': '1505307180', 'finish_date': '1507147076', 'item_cost': 7154.7795555556, 'total_cost': 7154.7795555556, 'assigned_id': '6', 'bom_id': '34', 'routing_id': '33', 'lot_id': '724', 'lot_code': 'L-00762', 'site_id': '1', 'notes': []}\n",
      "\n",
      "\n",
      "{'man_ord_id': '41', 'code': 'MO-00062', 'article_id': '695', 'product_id': '695', 'item_code': 'KS000001-920', 'item_title': 'STATION 2, KASITA UNIT, ADU, INDEPENDENT', 'unit_id': '5', 'unit': 'EA', 'group_id': '4', 'group_code': 'AG-00006', 'group_title': 'MFG', 'quantity': 1, 'status': '40', 'created': '1504155600', 'due_date': '1504155600', 'start_date': '1505306400', 'finish_date': '1507146699', 'item_cost': 11742.697736501, 'total_cost': 11742.697736501, 'assigned_id': '6', 'bom_id': '32', 'routing_id': '32', 'lot_id': '723', 'lot_code': 'L-00761', 'site_id': '1', 'notes': []}\n",
      "\n",
      "\n",
      "{'man_ord_id': '39', 'code': 'MO-00059', 'article_id': '591', 'product_id': '591', 'item_code': 'KS000001-900', 'item_title': 'KASITA UNIT, ADU, INDEPENDENT', 'unit_id': '5', 'unit': 'EA', 'group_id': '10', 'group_code': 'AG-00023', 'group_title': 'SALES', 'quantity': 1, 'status': '40', 'created': '1504155600', 'due_date': '1505451600', 'start_date': '1505839980', 'finish_date': '1514467945', 'item_cost': 34646.076926903, 'total_cost': 34646.076926903, 'assigned_id': '6', 'bom_id': '16', 'routing_id': '28', 'lot_id': '681', 'lot_code': 'L-00711', 'site_id': '1', 'notes': []}\n",
      "\n",
      "\n",
      "{'man_ord_id': '37', 'code': 'MO-00056', 'article_id': '591', 'product_id': '591', 'item_code': 'KS000001-900', 'item_title': 'KASITA UNIT, ADU, INDEPENDENT', 'unit_id': '5', 'unit': 'EA', 'group_id': '10', 'group_code': 'AG-00023', 'group_title': 'SALES', 'quantity': 1, 'status': '35', 'created': '1504155600', 'due_date': '1506661200', 'start_date': '1503599220', 'finish_date': '1514468640', 'item_cost': 25261.393666667, 'total_cost': 25261.393666667, 'assigned_id': '6', 'bom_id': '16', 'routing_id': '28', 'lot_id': '679', 'lot_code': 'L-00709', 'site_id': '1', 'notes': []}\n",
      "\n",
      "\n",
      "{'man_ord_id': '36', 'code': 'MO-00054', 'article_id': '696', 'product_id': '696', 'item_code': 'KS000001-930', 'item_title': 'STATION 3, KASITA UNIT, ADU, INDEPENDENT', 'unit_id': '5', 'unit': 'EA', 'group_id': '4', 'group_code': 'AG-00006', 'group_title': 'MFG', 'quantity': 1, 'status': '40', 'created': '1504155600', 'due_date': '1505451600', 'start_date': '1505998440', 'finish_date': '1514468075', 'item_cost': 26845.98574539, 'total_cost': 26845.98574539, 'assigned_id': '6', 'bom_id': '34', 'routing_id': '33', 'lot_id': '678', 'lot_code': 'L-00708', 'site_id': '1', 'notes': []}\n",
      "\n",
      "\n",
      "{'man_ord_id': '33', 'code': 'MO-00051', 'article_id': '591', 'product_id': '591', 'item_code': 'KS000001-900', 'item_title': 'KASITA UNIT, ADU, INDEPENDENT', 'unit_id': '5', 'unit': 'EA', 'group_id': '10', 'group_code': 'AG-00023', 'group_title': 'SALES', 'quantity': 1, 'status': '35', 'created': '1504155600', 'due_date': '1507870800', 'start_date': '1506531540', 'finish_date': '1507845600', 'item_cost': 74992.669728631, 'total_cost': 74992.669728631, 'assigned_id': '6', 'bom_id': '16', 'routing_id': '28', 'lot_id': '663', 'lot_code': 'L-00693', 'site_id': '1', 'notes': []}\n",
      "\n",
      "\n",
      "{'man_ord_id': '32', 'code': 'MO-00048', 'article_id': '696', 'product_id': '696', 'item_code': 'KS000001-930', 'item_title': 'STATION 3, KASITA UNIT, ADU, INDEPENDENT', 'unit_id': '5', 'unit': 'EA', 'group_id': '4', 'group_code': 'AG-00006', 'group_title': 'MFG', 'quantity': 1, 'status': '40', 'created': '1504155600', 'due_date': '1506661200', 'start_date': '1509365880', 'finish_date': '1514468911', 'item_cost': 10278.133333333, 'total_cost': 10278.133333333, 'assigned_id': '6', 'bom_id': '34', 'routing_id': '33', 'lot_id': '662', 'lot_code': 'L-00692', 'site_id': '1', 'notes': []}\n",
      "\n",
      "\n",
      "{'man_ord_id': '31', 'code': 'MO-00047', 'article_id': '695', 'product_id': '695', 'item_code': 'KS000001-920', 'item_title': 'STATION 2, KASITA UNIT, ADU, INDEPENDENT', 'unit_id': '5', 'unit': 'EA', 'group_id': '4', 'group_code': 'AG-00006', 'group_title': 'MFG', 'quantity': 1, 'status': '40', 'created': '1504155600', 'due_date': '1505451600', 'start_date': '1506514200', 'finish_date': '1514468783', 'item_cost': 21509.957543012, 'total_cost': 21509.957543012, 'assigned_id': '6', 'bom_id': '32', 'routing_id': '32', 'lot_id': '661', 'lot_code': 'L-00691', 'site_id': '1', 'notes': []}\n",
      "\n",
      "\n",
      "{'man_ord_id': '27', 'code': 'MO-00042', 'article_id': '694', 'product_id': '694', 'item_code': 'KS000001-910', 'item_title': 'STATION 1, KASITA UNIT, ADU, INDEPENDENT', 'unit_id': '5', 'unit': 'EA', 'group_id': '4', 'group_code': 'AG-00006', 'group_title': 'MFG', 'quantity': 1, 'status': '40', 'created': '1504155600', 'due_date': '1504155600', 'start_date': '1505167560', 'finish_date': '1514468589', 'item_cost': 3730.0881882354, 'total_cost': 3730.0881882354, 'assigned_id': '6', 'bom_id': '31', 'routing_id': '31', 'lot_id': '635', 'lot_code': 'L-00661', 'site_id': '1', 'notes': []}\n",
      "\n",
      "\n",
      "{'man_ord_id': '7', 'code': 'MO-00008', 'article_id': '5', 'product_id': '5', 'item_code': 'KS001', 'item_title': 'TEST MFG PART 5', 'unit_id': '5', 'unit': 'EA', 'group_id': '11', 'group_code': 'AG-00028', 'group_title': 'INACTIVE', 'quantity': 1, 'status': '40', 'created': '1496862473', 'due_date': None, 'start_date': '1496942460', 'finish_date': '1498235520', 'item_cost': 202.18, 'total_cost': 202.18, 'assigned_id': '1', 'bom_id': '2', 'routing_id': '11', 'lot_id': '22', 'lot_code': 'L-00022', 'site_id': '1', 'notes': []}\n",
      "\n",
      "\n",
      "{'man_ord_id': '6', 'code': 'MO-00007', 'article_id': '22', 'product_id': '22', 'item_code': 'KS001-200', 'item_title': 'TEST ASSY', 'unit_id': '5', 'unit': 'EA', 'group_id': '11', 'group_code': 'AG-00028', 'group_title': 'INACTIVE', 'quantity': 1, 'status': '40', 'created': '1496811600', 'due_date': '1496984400', 'start_date': '1496861880', 'finish_date': '1496861940', 'item_cost': 10.43, 'total_cost': 10.43, 'assigned_id': '1', 'bom_id': '4', 'routing_id': '4', 'lot_id': '16', 'lot_code': 'L-00016', 'site_id': '1', 'notes': []}\n",
      "\n",
      "\n",
      "{'man_ord_id': '4', 'code': 'MO-00005', 'article_id': '21', 'product_id': '21', 'item_code': 'KS001-100', 'item_title': 'TEST ASSY', 'unit_id': '5', 'unit': 'EA', 'group_id': '11', 'group_code': 'AG-00028', 'group_title': 'INACTIVE', 'quantity': 1, 'status': '40', 'created': '1496811600', 'due_date': None, 'start_date': '1496860980', 'finish_date': '1498228320', 'item_cost': 59.61, 'total_cost': 59.61, 'assigned_id': '1', 'bom_id': '3', 'routing_id': '3', 'lot_id': '11', 'lot_code': 'L-00011', 'site_id': '1', 'notes': []}\n",
      "\n",
      "\n",
      "{'man_ord_id': '3', 'code': 'MO-00004', 'article_id': '31', 'product_id': '31', 'item_code': 'KS00008-del1498163446', 'item_title': 'Component 8', 'unit_id': '5', 'unit': 'EA', 'group_id': '4', 'group_code': 'AG-00006', 'group_title': 'MFG', 'quantity': 3, 'status': '40', 'created': '1496805628', 'due_date': None, 'start_date': '1497531600', 'finish_date': '1497537000', 'item_cost': 1.53, 'total_cost': 4.59, 'assigned_id': '1', 'bom_id': '9', 'routing_id': '8', 'lot_id': '9', 'lot_code': 'L-00009', 'site_id': '1', 'notes': []}\n",
      "\n",
      "\n",
      "{'man_ord_id': '1', 'code': 'MO-00001', 'article_id': '4', 'product_id': '4', 'item_code': 'A-00004', 'item_title': 'TEST MFG PART 4', 'unit_id': '1', 'unit': 'FL-OZ', 'group_id': '11', 'group_code': 'AG-00028', 'group_title': 'INACTIVE', 'quantity': 100, 'status': '40', 'created': '1496766812', 'due_date': '1498494812', 'start_date': '1496811600', 'finish_date': '1496866800', 'item_cost': 2.99, 'total_cost': 299, 'assigned_id': '1', 'bom_id': '1', 'routing_id': '1', 'lot_id': '4', 'lot_code': 'L-00004', 'site_id': '1', 'notes': []}\n",
      "\n",
      "\n"
     ]
    }
   ],
   "source": [
    "response()"
   ]
  },
  {
   "cell_type": "code",
   "execution_count": null,
   "metadata": {},
   "outputs": [],
   "source": []
  }
 ],
 "metadata": {
  "kernelspec": {
   "display_name": "Python 3",
   "language": "python",
   "name": "python3"
  },
  "language_info": {
   "codemirror_mode": {
    "name": "ipython",
    "version": 3
   },
   "file_extension": ".py",
   "mimetype": "text/x-python",
   "name": "python",
   "nbconvert_exporter": "python",
   "pygments_lexer": "ipython3",
   "version": "3.6.0"
  }
 },
 "nbformat": 4,
 "nbformat_minor": 2
}
